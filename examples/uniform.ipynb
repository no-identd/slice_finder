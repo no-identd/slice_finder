{
 "cells": [
  {
   "cell_type": "code",
   "execution_count": null,
   "metadata": {},
   "outputs": [],
   "source": [
    "import pandas as pd\n",
    "from sklearn import metrics\n",
    "from slice_finder import UniformSliceFinder, FlattenedLGBMDataStructure, PandasDataConnector"
   ]
  },
  {
   "attachments": {},
   "cell_type": "markdown",
   "metadata": {},
   "source": [
    "### Regression task"
   ]
  },
  {
   "cell_type": "code",
   "execution_count": null,
   "metadata": {},
   "outputs": [],
   "source": [
    "df = pd.read_csv(f'./house_prices_prediction.csv')"
   ]
  },
  {
   "cell_type": "code",
   "execution_count": null,
   "metadata": {},
   "outputs": [],
   "source": [
    "slice_finder = UniformSliceFinder(\n",
    "    data_connector=PandasDataConnector(\n",
    "        df=df,\n",
    "        X_cols=df.drop(['pred', 'target'], axis=1).columns,\n",
    "        y_col='target',\n",
    "        pred_col='pred',\n",
    "    ),\n",
    "    data_structure=FlattenedLGBMDataStructure(),\n",
    "    verbose=True,\n",
    "    random_state=42,\n",
    ")"
   ]
  },
  {
   "cell_type": "code",
   "execution_count": null,
   "metadata": {},
   "outputs": [],
   "source": [
    "extreme = slice_finder.find_extreme(\n",
    "    metric=lambda df: metrics.mean_absolute_error(df['target'], df['pred']),\n",
    "    n_filters=3,\n",
    "    maximize=True,\n",
    ")\n",
    "extreme[0]"
   ]
  },
  {
   "attachments": {},
   "cell_type": "markdown",
   "metadata": {},
   "source": [
    "### Classification task"
   ]
  },
  {
   "cell_type": "code",
   "execution_count": null,
   "metadata": {},
   "outputs": [],
   "source": [
    "df = pd.read_csv(f'./fraud_detection.csv')"
   ]
  },
  {
   "cell_type": "code",
   "execution_count": null,
   "metadata": {},
   "outputs": [],
   "source": [
    "slice_finder = UniformSliceFinder(\n",
    "    data_connector=PandasDataConnector(\n",
    "        df=df,\n",
    "        X_cols=df.drop(['pred', 'target'], axis=1).columns,\n",
    "        y_col='target',\n",
    "        pred_col='pred',\n",
    "    ),\n",
    "    data_structure=FlattenedLGBMDataStructure(),\n",
    "    verbose=True,\n",
    "    random_state=42,\n",
    ")"
   ]
  },
  {
   "cell_type": "code",
   "execution_count": null,
   "metadata": {},
   "outputs": [],
   "source": [
    "extreme = slice_finder.find_extreme(\n",
    "    metric=lambda df: metrics.accuracy_score(df['target'], df['pred']),\n",
    "    n_filters=3,\n",
    "    minimum=0.5,\n",
    ")\n",
    "extreme[0]"
   ]
  },
  {
   "cell_type": "code",
   "execution_count": null,
   "metadata": {},
   "outputs": [],
   "source": []
  }
 ],
 "metadata": {
  "kernelspec": {
   "display_name": "base",
   "language": "python",
   "name": "python3"
  },
  "language_info": {
   "codemirror_mode": {
    "name": "ipython",
    "version": 3
   },
   "file_extension": ".py",
   "mimetype": "text/x-python",
   "name": "python",
   "nbconvert_exporter": "python",
   "pygments_lexer": "ipython3",
   "version": "3.10.8"
  },
  "orig_nbformat": 4
 },
 "nbformat": 4,
 "nbformat_minor": 2
}
