{
 "cells": [
  {
   "cell_type": "code",
   "execution_count": 1,
   "metadata": {},
   "outputs": [],
   "source": [
    "import pandas as pd\n",
    "from sklearn import metrics\n",
    "from slice_finder import GASliceFinder, FlattenedLGBMDataStructure, PandasDataConnector"
   ]
  },
  {
   "attachments": {},
   "cell_type": "markdown",
   "metadata": {},
   "source": [
    "### Regressoion task"
   ]
  },
  {
   "cell_type": "code",
   "execution_count": 2,
   "metadata": {},
   "outputs": [],
   "source": [
    "df = pd.read_csv(f'./house_prices_prediction.csv')"
   ]
  },
  {
   "cell_type": "code",
   "execution_count": 3,
   "metadata": {},
   "outputs": [],
   "source": [
    "slice_finder = GASliceFinder(\n",
    "    data_connector=PandasDataConnector(\n",
    "        df=df,\n",
    "        X_cols=df.drop(['pred', 'target'], axis=1).columns,\n",
    "        y_col='target',\n",
    "        pred_col='pred',\n",
    "    ),\n",
    "    data_structure=FlattenedLGBMDataStructure(),\n",
    "    verbose=True,\n",
    "    random_state=42,\n",
    ")"
   ]
  },
  {
   "cell_type": "code",
   "execution_count": 4,
   "metadata": {},
   "outputs": [
    {
     "name": "stdout",
     "output_type": "stream",
     "text": [
      "gen\tnevals\tavg    \tmin   \tmax    \n",
      "0  \t100   \t5398.48\t3297.7\t23623.7\n",
      "1  \t100   \t5615.13\t3297.7\t23623.7\n",
      "2  \t100   \t6154.22\t4300.44\t23623.7\n",
      "3  \t100   \t6807.04\t4776.69\t23623.7\n",
      "4  \t100   \t7732.7 \t5441.13\t23623.7\n",
      "5  \t100   \t8818.86\t6235.8 \t23623.7\n",
      "6  \t100   \t10306.2\t7098.19\t32109  \n",
      "7  \t100   \t12296.7\t8323.39\t33436.7\n",
      "8  \t100   \t13986  \t9172.75\t41294.2\n",
      "9  \t100   \t15990  \t10470.1\t41294.2\n",
      "10 \t100   \t18492.6\t12089.9\t41294.2\n"
     ]
    },
    {
     "data": {
      "text/plain": [
       "Value of the metric on the whole dataset: 4949.116485558639\n",
       "Value of the metric on the filtered data: (41294.210922909406,)\n",
       "Filters: [Filter(feature='1stFlrSF', operator='>', value=1568.0000000000002), Filter(feature='LowQualFinSF', operator='==', value=0), Filter(feature='FullBath', operator='==', value=3)]"
      ]
     },
     "execution_count": 4,
     "metadata": {},
     "output_type": "execute_result"
    }
   ],
   "source": [
    "extreme = slice_finder.find_extreme(\n",
    "    metric=lambda df: metrics.mean_absolute_error(df['target'], df['pred']),\n",
    "    n_filters=3,\n",
    "    maximize=True,\n",
    ")\n",
    "extreme[0]"
   ]
  },
  {
   "attachments": {},
   "cell_type": "markdown",
   "metadata": {},
   "source": [
    "### Classification task"
   ]
  },
  {
   "cell_type": "code",
   "execution_count": null,
   "metadata": {},
   "outputs": [],
   "source": [
    "df = pd.read_csv(f'./fraud_detection.csv')"
   ]
  },
  {
   "cell_type": "code",
   "execution_count": null,
   "metadata": {},
   "outputs": [],
   "source": [
    "slice_finder = GASliceFinder(\n",
    "    data_connector=PandasDataConnector(\n",
    "        df=df,\n",
    "        X_cols=df.drop(['pred', 'target'], axis=1).columns,\n",
    "        y_col='target',\n",
    "        pred_col='pred',\n",
    "    ),\n",
    "    data_structure=FlattenedLGBMDataStructure(),\n",
    "    verbose=True,\n",
    "    random_state=42,\n",
    ")"
   ]
  },
  {
   "cell_type": "code",
   "execution_count": null,
   "metadata": {},
   "outputs": [],
   "source": [
    "extreme = slice_finder.find_extreme(\n",
    "    metric=lambda df: metrics.accuracy_score(df['target'], df['pred']),\n",
    "    n_filters=3,\n",
    "    maximize=True,\n",
    ")\n",
    "extreme[0]"
   ]
  }
 ],
 "metadata": {
  "kernelspec": {
   "display_name": "base",
   "language": "python",
   "name": "python3"
  },
  "language_info": {
   "codemirror_mode": {
    "name": "ipython",
    "version": 3
   },
   "file_extension": ".py",
   "mimetype": "text/x-python",
   "name": "python",
   "nbconvert_exporter": "python",
   "pygments_lexer": "ipython3",
   "version": "3.10.8"
  },
  "orig_nbformat": 4
 },
 "nbformat": 4,
 "nbformat_minor": 2
}
